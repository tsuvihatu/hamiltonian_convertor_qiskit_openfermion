{
 "cells": [
  {
   "cell_type": "markdown",
   "metadata": {},
   "source": [
    "## This is a demo code for converting QubitOperator to WeightedPauliOperator.\n"
   ]
  },
  {
   "cell_type": "code",
   "execution_count": null,
   "metadata": {},
   "outputs": [],
   "source": [
    "from openfermion.ops import QubitOperator\n",
    "from qiskit.quantum_info import Pauli\n",
    "from openfermionqiskit import qubitop_to_pauliop"
   ]
  },
  {
   "source": [
    "The function 'qubitop_to_pauliop' can translate QubitOperator of openfermion to WeightedPauliOp of qiskit."
   ],
   "cell_type": "markdown",
   "metadata": {}
  },
  {
   "source": [
    "An example of a Hamiltonian with a single Pauli term."
   ],
   "cell_type": "markdown",
   "metadata": {}
  },
  {
   "cell_type": "code",
   "execution_count": null,
   "metadata": {},
   "outputs": [],
   "source": [
    "n_qubits = 3\n",
    "qubitop = QubitOperator('X0 Y1 Z2')\n",
    "pauliop = qubitop_to_pauliop(n_qubits, qubitop)\n",
    "print(pauliop)"
   ]
  },
  {
   "source": [
    "An example of a Hamiltonian expressed as a weighted sum of Paulis."
   ],
   "cell_type": "markdown",
   "metadata": {}
  },
  {
   "cell_type": "code",
   "execution_count": null,
   "metadata": {},
   "outputs": [],
   "source": [
    "n_qubits = 7\n",
    "qubitop = QubitOperator('X3 Z1 Y5', coefficient=4) + QubitOperator('X4 Y1', coefficient=2.5)\n",
    "pauliop = qubitop_to_pauliop(n_qubits, qubitop)\n",
    "print(pauliop)"
   ]
  }
 ],
 "metadata": {
  "language_info": {
   "codemirror_mode": {
    "name": "ipython",
    "version": 3
   },
   "file_extension": ".py",
   "mimetype": "text/x-python",
   "name": "python",
   "nbconvert_exporter": "python",
   "pygments_lexer": "ipython3",
   "version": "3.8.2-final"
  },
  "orig_nbformat": 2,
  "kernelspec": {
   "name": "python38264bit382pyenvfb2fef020f974fb08d9c829250e9c504",
   "display_name": "Python 3.8.2 64-bit ('3.8.2': pyenv)"
  }
 },
 "nbformat": 4,
 "nbformat_minor": 2
}